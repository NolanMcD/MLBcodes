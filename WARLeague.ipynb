{
 "cells": [
  {
   "cell_type": "markdown",
   "metadata": {},
   "source": [
    "## WARLeague"
   ]
  },
  {
   "cell_type": "code",
   "execution_count": 7,
   "metadata": {},
   "outputs": [
    {
     "name": "stdout",
     "output_type": "stream",
     "text": [
      "Enter number of teams: 2\n",
      "Enter number of players per team: 2\n",
      "Welcome to your WARLeague Draft \n",
      "\n",
      "Team  0  drafting \n",
      "\n",
      "Choose your player: Mookie Betts\n",
      "Team  1  drafting \n",
      "\n",
      "Choose your player: Mike Trout\n",
      "Team  0  drafting \n",
      "\n",
      "Choose your player: Jacob deGrom\n",
      "Team  1  drafting \n",
      "\n",
      "Choose your player: Gerrit Cole\n"
     ]
    }
   ],
   "source": [
    "NumbTeams = int(input(\"Enter number of teams: \"))\n",
    "NumbPlayers = int(input(\"Enter number of players per team: \"))\n",
    "\n",
    "\n",
    "teams = []\n",
    "for x in range(NumbTeams):\n",
    "    Team = []\n",
    "    teams.append(Team)\n",
    "    \n",
    "\n",
    "def draft(numP, numT):\n",
    "    print(\"Welcome to your WARLeague Draft \\n\")\n",
    "    for x in range(numP):\n",
    "        for y in range(numT):\n",
    "            print(\"Team \", y , \" drafting \\n\")\n",
    "            pick = input(\"Choose your player: \")\n",
    "            teams[y].append(pick)\n",
    "            \n",
    "draft(NumbPlayers, NumbTeams)"
   ]
  },
  {
   "cell_type": "code",
   "execution_count": 8,
   "metadata": {},
   "outputs": [
    {
     "name": "stdout",
     "output_type": "stream",
     "text": [
      "[['Mookie Betts', 'Jacob deGrom'], ['Mike Trout', 'Gerrit Cole']]\n"
     ]
    }
   ],
   "source": [
    "print(teams)"
   ]
  },
  {
   "cell_type": "code",
   "execution_count": 14,
   "metadata": {},
   "outputs": [
    {
     "name": "stdout",
     "output_type": "stream",
     "text": [
      "False\n"
     ]
    }
   ],
   "source": []
  },
  {
   "cell_type": "code",
   "execution_count": 38,
   "metadata": {},
   "outputs": [
    {
     "name": "stdout",
     "output_type": "stream",
     "text": [
      "[{'Name': 'Mike Trout', 'WAR': '11'}, {'Name': 'Nelson Cruz', 'WAR': '6.2'}, {'Name': 'Juan Soto', 'WAR': '7.3'}, {'Name': 'Christian Yelich', 'WAR': '8.6'}, {'Name': 'Anthony Rendon', 'WAR': '9.6'}, {'Name': 'Freddie Freeman', 'WAR': '7.3'}, {'Name': 'Alex Bregman', 'WAR': '9.5'}, {'Name': 'George Springer', 'WAR': '8.4'}, {'Name': 'Cody Bellinger', 'WAR': '9'}, {'Name': 'DJ LeMahieu', 'WAR': '7.8'}, {'Name': 'Xander Bogaerts', 'WAR': '8.7'}, {'Name': 'Ketel Marte', 'WAR': '7.4'}, {'Name': 'Mookie Betts', 'WAR': '9.6'}, {'Name': 'Ronald Acuna', 'WAR': 'Jr.'}, {'Name': 'Jeff McNeil', 'WAR': '5.7'}, {'Name': 'Trevor Story', 'WAR': '8.3'}, {'Name': 'Josh Donaldson', 'WAR': '5.8'}, {'Name': 'Mark Canha', 'WAR': '5.8'}, {'Name': 'Bryce Harper', 'WAR': '6.2'}, {'Name': 'Charlie Blackmon', 'WAR': '2.8'}, {'Name': 'Trea Turner', 'WAR': '6.3'}, {'Name': 'Pete Alonso', 'WAR': '5.1'}, {'Name': 'Trey Mancini', 'WAR': '3.7'}, {'Name': 'Nolan Arenado', 'WAR': '6.9'}, {'Name': 'Anthony Rizzo', 'WAR': '5.1'}, {'Name': 'Justin Turner', 'WAR': '4.7'}, {'Name': 'Marcell Ozuna', 'WAR': '5'}, {'Name': 'Luke Voit', 'WAR': '3.4'}, {'Name': 'Michael Conforto', 'WAR': '5.7'}, {'Name': 'Jorge Soler', 'WAR': '4.2'}, {'Name': 'Eugenio Suarez', 'WAR': '5.6'}, {'Name': 'Tim Anderson', 'WAR': '5.6'}, {'Name': 'Rafael Devers', 'WAR': '6.5'}, {'Name': 'Michael Brantley', 'WAR': '5.5'}, {'Name': 'Jose Abreu', 'WAR': '4.4'}, {'Name': 'Carlos Santana', 'WAR': '4.9'}, {'Name': 'Kris Bryant', 'WAR': '5.3'}, {'Name': 'Austin Meadows', 'WAR': '3.9'}, {'Name': 'J.D. Martinez', 'WAR': '2.2'}, {'Name': 'Jose Ramirez', 'WAR': '6.8'}, {'Name': 'Yoan Moncada', 'WAR': '7.2'}, {'Name': 'Corey Seager', 'WAR': '5.2'}, {'Name': 'Paul Goldschmidt', 'WAR': '5.1'}, {'Name': 'Max Muncy', 'WAR': '5.2'}, {'Name': 'Jake Cronenworth', 'WAR': '1.4'}, {'Name': 'Yasmani Grandal', 'WAR': '6.9'}, {'Name': 'Marcus Semien', 'WAR': '8.8'}, {'Name': 'Rhys Hoskins', 'WAR': '3.1'}, {'Name': 'Josh Bell', 'WAR': '2'}, {'Name': 'Eloy Jimenez', 'WAR': '3.5'}, {'Name': 'Hunter Dozier', 'WAR': '3.8'}, {'Name': 'Matt Olson', 'WAR': '4.7'}, {'Name': 'Gleyber Torres', 'WAR': '3.8'}, {'Name': 'Matt Chapman', 'WAR': '7.4'}, {'Name': 'Manny Machado', 'WAR': '5.6'}, {'Name': 'Ozzie Albies', 'WAR': '5.2'}, {'Name': 'Nicholas Castellanos', 'WAR': '3.2'}, {'Name': 'Max Kepler', 'WAR': '5.4'}, {'Name': 'Cavan Biggio', 'WAR': '3.8'}, {'Name': 'Jose Altuve', 'WAR': '3.7'}, {'Name': 'Starling Marte', 'WAR': '4.3'}, {'Name': 'Shin-Soo Choo', 'WAR': '1.8'}, {'Name': 'Mike Moustakas', 'WAR': '3.5'}, {'Name': 'Bryan Reynolds', 'WAR': '3.2'}, {'Name': 'J.T. Realmuto', 'WAR': '7.5'}, {'Name': 'Brian Anderson', 'WAR': '4.3'}, {'Name': 'Christian Walker', 'WAR': '2.9'}, {'Name': 'Kyle Schwarber', 'WAR': '3'}, {'Name': 'Brandon Belt', 'WAR': '2.2'}, {'Name': 'Ramon Laureano', 'WAR': '5.2'}, {'Name': 'Francisco Lindor', 'WAR': '6.2'}, {'Name': 'Wil Myers', 'WAR': '2.4'}, {'Name': 'Brett Gardner', 'WAR': '4.2'}, {'Name': 'Yuli Gurriel', 'WAR': '3.2'}, {'Name': 'Kole Calhoun', 'WAR': '4.2'}, {'Name': 'Tommy Pham', 'WAR': '3.3'}, {'Name': 'Whit Merrifield', 'WAR': '4.2'}, {'Name': 'Jason Heyward', 'WAR': '3.8'}, {'Name': 'Jorge Polanco', 'WAR': '4.8'}, {'Name': 'Joey Votto', 'WAR': '1.2'}, {'Name': 'Christian Vazquez', 'WAR': '4.9'}, {'Name': 'Kyle Seager', 'WAR': '4.4'}, {'Name': 'Vladimir Guerrero', 'WAR': '0.6'}, {'Name': 'Yasiel Puig', 'WAR': '1.3'}, {'Name': 'Adam Eaton', 'WAR': '1.9'}, {'Name': 'Eddie Rosario', 'WAR': '2.1'}, {'Name': 'Daniel Vogelbach', 'WAR': '1.5'}, {'Name': 'Renato Nunez', 'WAR': '1.1'}, {'Name': 'Dansby Swanson', 'WAR': '3.3'}, {'Name': 'David Fletcher', 'WAR': '4.8'}, {'Name': 'Kolten Wong', 'WAR': '5'}, {'Name': 'Brian Goodwin', 'WAR': '1.8'}, {'Name': 'Jackie Bradley', 'WAR': '2.9'}, {'Name': 'Ryan McMahon', 'WAR': '0.8'}, {'Name': 'Avisail Garcia', 'WAR': '2.5'}, {'Name': 'Colin Moran', 'WAR': '0.5'}, {'Name': 'Willy Adames', 'WAR': '4.3'}, {'Name': 'Eduardo Escobar', 'WAR': '3.1'}, {'Name': 'Cesar Hernandez', 'WAR': '3.7'}, {'Name': 'Todd Frazier', 'WAR': '1.8'}, {'Name': 'Javier Baez', 'WAR': '4.4'}, {'Name': 'Jonathan Villar', 'WAR': '3.8'}, {'Name': 'Jean Segura', 'WAR': '3.3'}, {'Name': 'Miguel Cabrera', 'WAR': '-0.1'}, {'Name': 'Eric Hosmer', 'WAR': '0.5'}, {'Name': 'Evan Longoria', 'WAR': '2.7'}, {'Name': 'Kevin Newman', 'WAR': '1.9'}, {'Name': 'Paul DeJong', 'WAR': '4.7'}, {'Name': 'Luis Robert', 'WAR': '1.5'}, {'Name': 'Nick Ahmed', 'WAR': '3.4'}, {'Name': 'Randal Grichuk', 'WAR': '1.1'}, {'Name': 'Hanser Alberto', 'WAR': '2.6'}, {'Name': 'Adam Frazier', 'WAR': '2.8'}, {'Name': 'Justin Smoak', 'WAR': '-0.5'}, {'Name': 'Jurickson Profar', 'WAR': '2.7'}, {'Name': 'Amed Rosario', 'WAR': '2.8'}, {'Name': 'Kevin Pillar', 'WAR': '2.5'}, {'Name': 'Alex Gordon', 'WAR': '1.6'}, {'Name': 'Adam Jones', 'WAR': '-0.2'}, {'Name': 'Starlin Castro', 'WAR': '1.4'}, {'Name': 'Josh Reddick', 'WAR': '0.4'}, {'Name': 'Victor Robles', 'WAR': '2'}, {'Name': 'Albert Pujols', 'WAR': '-0.7'}, {'Name': 'Brandon Crawford', 'WAR': '1.2'}, {'Name': 'Elvis Andrus', 'WAR': '1.1'}, {'Name': 'Rougned Odor', 'WAR': '0.1'}, {'Name': 'Orlando Arcia', 'WAR': '0.3'}, {'Name': 'Evan White', 'WAR': '-0.2'}, {'Name': 'Jacob deGrom', 'WAR': '9.6'}, {'Name': 'Gerrit Cole', 'WAR': '8.8'}, {'Name': 'Shane Bieber', 'WAR': '8.8'}, {'Name': 'Max Scherzer', 'WAR': '8.3'}, {'Name': 'Lance Lynn', 'WAR': '8.1'}, {'Name': 'Zack Greinke', 'WAR': '7.5'}, {'Name': 'Lucas Giolito', 'WAR': '7'}, {'Name': 'Charlie Morton', 'WAR': '7'}, {'Name': 'Zack Wheeler', 'WAR': '6.7'}, {'Name': 'Hyun-Jin Ryu', 'WAR': '6.6'}, {'Name': 'Luis Castillo', 'WAR': '6.5'}, {'Name': 'Justin Verlander', 'WAR': '6.3'}, {'Name': 'Sonny Gray', 'WAR': '6.1'}, {'Name': 'Patrick Corbin', 'WAR': '5.9'}, {'Name': 'Kyle Hendricks', 'WAR': '5.9'}, {'Name': 'Trevor Bauer', 'WAR': '5.8'}, {'Name': 'Marco Gonzales', 'WAR': '5.7'}, {'Name': 'German Marquez', 'WAR': '5.7'}, {'Name': 'Aaron Nola', 'WAR': '5.5'}, {'Name': 'Jose Berrios', 'WAR': '5.4'}, {'Name': 'Yu Darvish', 'WAR': '5.4'}, {'Name': 'Jack Flaherty', 'WAR': '5.4'}, {'Name': 'Mike Minor', 'WAR': '4.9'}, {'Name': 'Dylan Bundy', 'WAR': '4.5'}, {'Name': 'Noah Syndergaard', 'WAR': '4.4'}, {'Name': 'Marcus Stroman', 'WAR': '3.9'}, {'Name': 'Eduardo Rodriguez', 'WAR': '3.7'}, {'Name': 'Rick Porcello', 'WAR': '3.5'}, {'Name': 'Matthew Boyd', 'WAR': '3.4'}, {'Name': 'Adam Wainwright', 'WAR': '3.2'}, {'Name': 'Sandy Alcantara', 'WAR': '3.1'}, {'Name': 'Zach Eflin', 'WAR': '3.1'}, {'Name': 'Jon Lester', 'WAR': '2.9'}, {'Name': 'Zach Davies', 'WAR': '2.9'}, {'Name': 'Madison Bumgarner', 'WAR': '2.8'}, {'Name': 'Miles Mikolas', 'WAR': '2.5'}, {'Name': 'Brett Anderson', 'WAR': '2.5'}, {'Name': 'Anthony DeSclafani', 'WAR': '2.4'}, {'Name': 'Mike Fiers', 'WAR': '2.3'}, {'Name': 'Robbie Ray', 'WAR': '2'}, {'Name': 'Jakob Junis', 'WAR': '1.4'}, {'Name': 'Brady Singer', 'WAR': '1'}, {'Name': 'Mike Leake', 'WAR': '1'}, {'Name': 'Julio Teheran', 'WAR': '0.8'}]\n"
     ]
    }
   ],
   "source": [
    "file = open(\"2War.txt\")\n",
    "count = 0\n",
    "thedict = {}\n",
    "statList = []\n",
    "listOfDicts = []\n",
    "for x in file:\n",
    "    y = x.split()\n",
    "    if count == 0:\n",
    "        for title in y:\n",
    "            statList.append(title)\n",
    "    else:\n",
    "        thedict[statList[0]] = y[0] + \" \" + y[1]\n",
    "        thedict[statList[1]] = y[2]\n",
    "        copyDict = thedict.copy()\n",
    "        listOfDicts.append(copyDict)\n",
    "    count = count + 1\n",
    "\n",
    "\n"
   ]
  },
  {
   "cell_type": "code",
   "execution_count": null,
   "metadata": {},
   "outputs": [],
   "source": []
  }
 ],
 "metadata": {
  "kernelspec": {
   "display_name": "Python 3",
   "language": "python",
   "name": "python3"
  },
  "language_info": {
   "codemirror_mode": {
    "name": "ipython",
    "version": 3
   },
   "file_extension": ".py",
   "mimetype": "text/x-python",
   "name": "python",
   "nbconvert_exporter": "python",
   "pygments_lexer": "ipython3",
   "version": "3.7.4"
  }
 },
 "nbformat": 4,
 "nbformat_minor": 2
}
