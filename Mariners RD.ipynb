{
 "cells": [
  {
   "cell_type": "code",
   "execution_count": 15,
   "metadata": {},
   "outputs": [
    {
     "data": {
      "text/plain": [
       "[34,\n",
       " -51,\n",
       " 102,\n",
       " 70,\n",
       " 70,\n",
       " 52,\n",
       " 16,\n",
       " 109,\n",
       " 120,\n",
       " 138,\n",
       " 70,\n",
       " 100,\n",
       " 84,\n",
       " 61,\n",
       " -20,\n",
       " 102,\n",
       " 74,\n",
       " 95,\n",
       " 43,\n",
       " 51,\n",
       " 134,\n",
       " 39,\n",
       " 92,\n",
       " -9,\n",
       " 129,\n",
       " 51,\n",
       " 105,\n",
       " 94,\n",
       " 51,\n",
       " 114,\n",
       " 59,\n",
       " 29,\n",
       " -24,\n",
       " 61,\n",
       " 67,\n",
       " 65,\n",
       " 87,\n",
       " 26,\n",
       " 122,\n",
       " 73,\n",
       " 102,\n",
       " 129,\n",
       " 138,\n",
       " 62,\n",
       " 40,\n",
       " 77,\n",
       " 100,\n",
       " 95,\n",
       " 69,\n",
       " 141,\n",
       " 81,\n",
       " 172,\n",
       " 87,\n",
       " 128,\n",
       " 138,\n",
       " 97,\n",
       " 99,\n",
       " 126,\n",
       " 30,\n",
       " 121,\n",
       " 111,\n",
       " 92,\n",
       " 96,\n",
       " 243,\n",
       " 290,\n",
       " 333,\n",
       " 345]"
      ]
     },
     "execution_count": 15,
     "metadata": {},
     "output_type": "execute_result"
    }
   ],
   "source": [
    "RS = [706,697,759,716,683,757,619,698,697,875,762,787,665,750,712,860,868,769,801,799,950,831,925,784,928,703,645,747,660,783,797,732,652,696,784,694,731,659,708,844,713,682,689,706,739,713,701,675,656,707,743,888,720,998,724,692,556,589,596,779,570,644,640,777,964,995,900]\n",
    "RA = [672\n",
    ",748\n",
    ",657\n",
    ",646\n",
    ",613\n",
    ",705\n",
    ",603\n",
    ",589\n",
    ",577\n",
    ",737\n",
    ",692\n",
    ",687\n",
    ",581\n",
    ",689\n",
    ",732\n",
    ",758\n",
    ",794\n",
    ",674\n",
    ",758\n",
    ",748\n",
    ",816\n",
    ",792\n",
    ",833\n",
    ",793\n",
    ",799\n",
    ",652\n",
    ",540\n",
    ",653\n",
    ",609\n",
    ",669\n",
    ",738\n",
    ",703\n",
    ",676\n",
    ",635\n",
    ",717\n",
    ",629\n",
    ",644\n",
    ",633\n",
    ",586\n",
    ",771\n",
    ",611\n",
    ",553\n",
    ",551\n",
    ",644\n",
    ",699\n",
    ",636\n",
    ",601\n",
    ",580\n",
    ",587\n",
    ",566\n",
    ",662\n",
    ",716\n",
    ",633\n",
    ",870\n",
    ",586\n",
    ",595\n",
    ",457\n",
    ",463\n",
    ",566\n",
    ",658\n",
    ",459\n",
    ",552\n",
    ",544\n",
    ",534\n",
    ",674\n",
    ",662\n",
    ",555]\n",
    "\n",
    "RD = []\n",
    "for x in range(len(RS)):\n",
    "    RD.append(RS[x]-RA[x])\n",
    "        \n",
    "RD"
   ]
  },
  {
   "cell_type": "code",
   "execution_count": 33,
   "metadata": {},
   "outputs": [
    {
     "name": "stdout",
     "output_type": "stream",
     "text": [
      "[-51, -24, -20, -9, 16, 26, 29, 30, 34, 39, 40, 43, 51, 51, 51, 52, 59, 61, 61, 62, 65, 67, 69, 70, 70, 70, 73, 74, 77, 81, 84, 87, 87, 92, 92, 94, 95, 95, 96, 97, 99, 100, 100, 102, 102, 102, 105, 109, 111, 114, 120, 121, 122, 126, 128, 129, 129, 134, 138, 138, 138, 141, 172, 243, 290, 333, 345]\n"
     ]
    },
    {
     "data": {
      "text/plain": [
       "[<matplotlib.lines.Line2D at 0x17efa76fa08>]"
      ]
     },
     "execution_count": 33,
     "metadata": {},
     "output_type": "execute_result"
    },
    {
     "data": {
      "image/png": "[encoded data removed]",
      "text/plain": [
       "<Figure size 640x480 with 1 Axes>"
      ]
     },
     "metadata": {},
     "output_type": "display_data"
    }
   ],
   "source": [
    "import matplotlib.pyplot as plt; plt.rcdefaults()\n",
    "import numpy as np\n",
    "import matplotlib.pyplot as plt\n",
    "\n",
    "RD.sort()\n",
    "print(RD)\n",
    "plt.plot(RD, 'ro')"
   ]
  },
  {
   "cell_type": "code",
   "execution_count": null,
   "metadata": {},
   "outputs": [],
   "source": []
  }
 ],
 "metadata": {
  "kernelspec": {
   "display_name": "Python 3",
   "language": "python",
   "name": "python3"
  },
  "language_info": {
   "codemirror_mode": {
    "name": "ipython",
    "version": 3
   },
   "file_extension": ".py",
   "mimetype": "text/x-python",
   "name": "python",
   "nbconvert_exporter": "python",
   "pygments_lexer": "ipython3",
   "version": "3.7.4"
  }
 },
 "nbformat": 4,
 "nbformat_minor": 2
}
